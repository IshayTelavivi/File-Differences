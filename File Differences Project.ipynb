{
 "cells": [
  {
   "cell_type": "markdown",
   "metadata": {},
   "source": [
    "#  File Differences project for Week 4 of Python Data Representations course.\n",
    "## The aim of the project is to build a program that finds differences in text files content.\n",
    "\n",
    "More specifically, the aim of the project is to find the exact location of the first character that differs between two input files (the line number, the word and the character). To do that, I wrote the following 5 functions, that their name, parameters and general functionality were part of the guidelines for this project.\n",
    "The five fuctions are:\n",
    "* singleline_diff(line1, line2) - The function takes two single line strings and returns the index of the first character that differs between the two lines, or an indication in case that the lines are identical.\n",
    "* singleline_diff_format(line1, line2, idx) - The function creates a format for presenting the location of the first difference.\n",
    "* multiline_diff(lines1, lines2) - The function takes two lists of single line strings, and returns a tuple that indicates the line and index within that line where the first difference between the two lists occurs.\n",
    "* get_file_lines(filename) - The function takes a filename as input and returns a list of single lines as strings.\n",
    "* file_diff_format(filename1, filename2) - The function takes two filenames as input and returns a formatted string with the location of the first difference between the files.\n",
    "\n",
    "Originally this program was writtes on Thony IDE, but I converted it to this notebook, so that the steps are more clear, and each funciton lies in separate cell. The last cell activates the program."
   ]
  },
  {
   "cell_type": "code",
   "execution_count": 2,
   "metadata": {
    "collapsed": true
   },
   "outputs": [],
   "source": [
    "def singleline_diff(line1, line2):\n",
    "    \"\"\"\n",
    "    Inputs:\n",
    "      line1 - first single line string\n",
    "      line2 - second single line string\n",
    "    Output:\n",
    "      Returns the index where the first difference between\n",
    "      line1 and line2 occurs.\n",
    "\n",
    "      Returns IDENTICAL if the two lines are the same.\n",
    "    \"\"\"\n",
    "    # Check lines' length:\n",
    "    len_1 = len(line1)\n",
    "    len_2 = len(line2)\n",
    "    # Calculates the shorter lines (minimum of lines):\n",
    "    len_for_check = min(len_1, len_2)\n",
    "    \n",
    "    # Calibrates the error index to -1 - negative so that it won't come as an output.\n",
    "    error_index = -1\n",
    "    \n",
    "    # Now, going character by character, and if identifies a mismatch, recieves the index no.\n",
    "    for char in range(len_for_check):\n",
    "        if line1[char] != line2[char]:\n",
    "            error_index = char\n",
    "            break\n",
    "        # If they are identical, but not the same length, returns the index of the first char betond the short line\n",
    "        elif len_1 - len_2 != 0:\n",
    "            error_index = len_for_check\n",
    "        else:\n",
    "            error_index = \"IDENTICAL\"\n",
    "    \n",
    "    return error_index\n",
    "    "
   ]
  },
  {
   "cell_type": "code",
   "execution_count": 3,
   "metadata": {
    "collapsed": true
   },
   "outputs": [],
   "source": [
    "def singleline_diff_format(line1, line2, idx):\n",
    "    \"\"\"\n",
    "    Inputs:\n",
    "      line1 - first single line string\n",
    "      line2 - second single line string\n",
    "      idx   - index of first difference between the lines\n",
    "    Output:\n",
    "      Returns a three line formatted string showing the location\n",
    "      of the first difference between line1 and line2.\n",
    "\n",
    "      If either input line contains a newline or carriage return,\n",
    "      then returns an empty string.\n",
    "\n",
    "      If idx is not a valid index, then returns an empty string.\n",
    "    \"\"\"\n",
    "    \n",
    "    # Takes the index no. as the output of singleline_diff function \n",
    "    idx = singleline_diff(line1, line2)\n",
    "    \n",
    "    # Checkes how many lines there are (to later return blank if more than one\n",
    "    lenline_1 = len(line1.splitlines())\n",
    "    lenline_2 = len(line2.splitlines())\n",
    "    \n",
    "    # If more that one line, return blank line\n",
    "    if lenline_1 > 1 or lenline_2 > 1:\n",
    "        return \"\"\n",
    "    else:\n",
    "        # Now makes a string of all sub-strings. After each line adds '\\n'\n",
    "        result = line1 + \"\\n\" + \"=\" * idx + \"^\" + \"\\n\" + line2 + \"\\n\"\n",
    "        return result        "
   ]
  },
  {
   "cell_type": "code",
   "execution_count": 4,
   "metadata": {
    "collapsed": true
   },
   "outputs": [],
   "source": [
    "def multiline_diff(lines1, lines2):\n",
    "    \"\"\"\n",
    "    Inputs:\n",
    "      lines1 - list of single line strings\n",
    "      lines2 - list of single line strings\n",
    "    Output:\n",
    "      Returns a tuple containing the line number (starting from 0) and\n",
    "      the index in that line where the first difference between lines1\n",
    "      and lines2 occurs.\n",
    "\n",
    "      Returns (IDENTICAL, IDENTICAL) if the two lists are the same.\n",
    "    \"\"\"\n",
    "    \n",
    "    # First calculates the length of aech list\n",
    "    len1 = len(lines1)\n",
    "    len2 = len(lines2)\n",
    "    # Then calculates how many lines I need to check\n",
    "    len_to_check = min(len1, len2)\n",
    "    \n",
    "    if lines1 == lines2: # If the lists are identical\n",
    "        return (\"IDENTICAL\", \"IDENTICAL\")\n",
    "    else:\n",
    "        # This counter caounts all character in the list till it gets to the mismacth\n",
    "        char_counter = 0 \n",
    "        # This parameter returns the no of line with the mismatch\n",
    "        line_no = -1\n",
    "        for line_idx in range(len_to_check):\n",
    "            # it says that if the lines are identical, it need ot \"collect\" their characters for\n",
    "            # the overall index, so that the returned no will be the first char in the remaining long list\n",
    "            if singleline_diff(lines1[line_idx], lines2[line_idx]) == \"IDENTICAL\":\n",
    "                char_counter += len(lines1[line_idx])\n",
    "                line_no = \"IDENTICAL\"\n",
    "            else:\n",
    "                char_counter += singleline_diff(lines1[line_idx], lines2[line_idx])\n",
    "                line_no = line_idx\n",
    "                break\n",
    "        return (line_no, char_counter)"
   ]
  },
  {
   "cell_type": "code",
   "execution_count": 5,
   "metadata": {
    "collapsed": true
   },
   "outputs": [],
   "source": [
    "def get_file_lines(filename):\n",
    "    \"\"\"\n",
    "    Inputs:\n",
    "      filename - name of file to read\n",
    "    Output:\n",
    "      Returns a list of lines from the file named filename.  Each\n",
    "      line will be a single line string with no newline ('\\n') or\n",
    "      return ('\\r') characters.\n",
    "\n",
    "      If the file does not exist or is not readable, then the\n",
    "      behavior of this function is undefined.\n",
    "    \"\"\"\n",
    "    # It opens and reads in the same line\n",
    "    flist = open(filename).readlines()\n",
    "    # It takes off any '\\n' from the lines, and creates a list []\n",
    "    list_strip = [s.rstrip('\\n') for s in flist]\n",
    "    return list_strip\n",
    "       "
   ]
  },
  {
   "cell_type": "code",
   "execution_count": 6,
   "metadata": {
    "collapsed": true
   },
   "outputs": [],
   "source": [
    "def file_diff_format(filename1, filename2):\n",
    "    \"\"\"\n",
    "    Inputs:\n",
    "      filename1 - name of first file\n",
    "      filename2 - name of second file\n",
    "    Output:\n",
    "      Returns a four line string showing the location of the first\n",
    "      difference between the two files named by the inputs.\n",
    "\n",
    "      If the files are identical, the function instead returns the\n",
    "      string \"No differences\\n\".\n",
    "\n",
    "      If either file does not exist or is not readable, then the\n",
    "      behavior of this function is undefined.\n",
    "    \"\"\"\n",
    "    # First opens the files and strip off the '\\n's\n",
    "    list1 = get_file_lines(filename1)\n",
    "    list2 = get_file_lines(filename2)\n",
    "    \n",
    "    if list1 == list2:\n",
    "        return \"No differences\\n\"\n",
    "    else:\n",
    "        # line_no takes only the first item from the tuple in multiline_diff function\n",
    "        line_no = multiline_diff(list1,list2)[0]\n",
    "        # This is the actual text from list 1\n",
    "        list1_line = list1 [line_no]\n",
    "        # This is the actual text from list 2\n",
    "        list2_line = list2 [line_no]\n",
    "        char_no = singleline_diff(list1_line, list2_line)\n",
    "        # result is the sting that combines all the required elements in the format \n",
    "        result = \"Line\" + str(line_no) + \":\\n\" + list1_line + \"\\n\" + \"=\" * char_no + \"^\" + \"\\n\"\\\n",
    "                 + list2_line + \"\\n\"\n",
    "        return result"
   ]
  },
  {
   "cell_type": "code",
   "execution_count": 7,
   "metadata": {},
   "outputs": [
    {
     "name": "stdout",
     "output_type": "stream",
     "text": [
      "Line0:\n",
      "engineering classes\n",
      "=====^\n",
      "enginneering classes\n",
      "\n"
     ]
    }
   ],
   "source": [
    "print (file_diff_format(\"file2.txt\", \"file3.txt\"))"
   ]
  },
  {
   "cell_type": "code",
   "execution_count": null,
   "metadata": {
    "collapsed": true
   },
   "outputs": [],
   "source": []
  }
 ],
 "metadata": {
  "kernelspec": {
   "display_name": "Python 3",
   "language": "python",
   "name": "python3"
  },
  "language_info": {
   "codemirror_mode": {
    "name": "ipython",
    "version": 3
   },
   "file_extension": ".py",
   "mimetype": "text/x-python",
   "name": "python",
   "nbconvert_exporter": "python",
   "pygments_lexer": "ipython3",
   "version": "3.6.3"
  }
 },
 "nbformat": 4,
 "nbformat_minor": 2
}
